#!/usr/bin/env python
# coding: utf-8

# Gathering data on customer purchase behavior can involve collecting information such as purchase history, frequency of purchases, types of products purchased, and any other relevant data points that can help identify patterns in customer behavior.
# 
# Once you have the data, you can preprocess it to ensure it's ready for clustering. This may involve standardizing or normalizing numerical features, encoding categorical variables, and handling missing values.
# 
# Next, you'll apply the K-means clustering algorithm to the preprocessed data to identify distinct groups of customers based on their shopping behavior. You can use the elbow method or silhouette score to determine the optimal number of clusters.
# 
# After clustering, you'll analyze the characteristics of each cluster to understand the differences between customer segments. This could involve examining the average purchase value, frequency of purchases, types of products purchased, and any other relevant features.
# 
# Finally, you'll discuss how this information could be used for targeted marketing strategies. For example, you might recommend tailoring marketing campaigns or promotions to specific customer segments based on their preferences and behavior.

# Here's a step-by-step guide to performing K-means clustering for customer segmentation in a Jupyter Notebook using Python and Scikit-learn:

# In[ ]:


import pandas as pd
import numpy as np
import matplotlib.pyplot as plt
import seaborn as sns
from sklearn.cluster import KMeans
from sklearn.preprocessing import StandardScaler

# Load the dataset
data = pd.read_csv('customer_data.csv')

# Display the first few rows of the dataset
print(data.head())

# Explore the dataset
print(data.info())
print(data.describe())

# Drop any unnecessary columns
data = data.drop(['CustomerID'], axis=1)

# Handle missing values if any
data = data.dropna()

# Standardize numerical features
scaler = StandardScaler()
data_scaled = scaler.fit_transform(data)

# Use the elbow method to find the optimal number of clusters
wcss = []
for i in range(1, 11):
    kmeans = KMeans(n_clusters=i, init='k-means++', random_state=42)
    kmeans.fit(data_scaled)
    wcss.append(kmeans.inertia_)

# Plot the elbow curve
plt.figure(figsize=(10, 6))
plt.plot(range(1, 11), wcss, marker='o', linestyle='--')
plt.title('Elbow Method')
plt.xlabel('Number of Clusters')
plt.ylabel('WCSS')
plt.show()

# Apply K-means clustering with the optimal number of clusters
kmeans = KMeans(n_clusters=4, init='k-means++', random_state=42)
clusters = kmeans.fit_predict(data_scaled)

# Add cluster labels to the original dataset
data['Cluster'] = clusters

# Analyze characteristics of each cluster
cluster_summary = data.groupby('Cluster').mean()
print(cluster_summary)

# Visualize clusters
sns.scatterplot(x='Annual Income (k$)', y='Spending Score (1-100)', data=data, hue='Cluster', palette='viridis')
plt.title('Customer Segments')
plt.xlabel('Annual Income (k$)')
plt.ylabel('Spending Score (1-100)')
plt.show()

# Strategic Marketing Recommendations
# Based on the analysis of customer segments, make strategic marketing recommendations.
# For example:
# Cluster 0: High income, high spending score - Target with premium offers and personalized services.
# Cluster 1: Low income, high spending score - Focus on promotions and discounts to encourage repeat purchases.
# Cluster 2: Moderate income, moderate spending score - Offer value-added services or loyalty programs.
# Cluster 3: High income, low spending score - Focus on understanding needs and preferences to increase engagement.


# Make sure to replace 'customer_data.csv' with the actual filename of your dataset. This code performs K-means clustering for customer segmentation, analyzes customer segments, and provides strategic marketing recommendations based on cluster characteristics.
