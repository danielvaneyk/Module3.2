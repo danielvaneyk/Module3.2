#!/usr/bin/env python
# coding: utf-8

# Here's a basic outline you can follow to accomplish this task:
# 
# Dataset Exploration and Preparation:
# 
# Download the wine quality dataset.
# Explore the dataset to understand its structure, features, and target variable (wine quality).
# Preprocess the data if needed (handling missing values, encoding categorical variables, etc.).
# Model Training:
# 
# Split the dataset into training and testing sets.
# Initialize and train a Random Forest model using Scikit-learn.
# Evaluate the model's performance on the testing set using appropriate metrics (e.g., accuracy, F1-score, etc.).
# Feature Importance Analysis:
# 
# Extract the feature importances from the trained Random Forest model.
# Visualize the feature importances using plots like bar charts or heatmaps to understand the relative importance of different features.
# Rank the features based on their importance scores.
# Conclusions:
# 
# Summarize the findings from the feature importance analysis.
# Discuss which features have the most significant impact on predicting wine quality according to the model.
# Provide insights or recommendations based on the analysis.

# In[ ]:


import pandas as pd
from sklearn.model_selection import train_test_split
from sklearn.ensemble import RandomForestClassifier
import matplotlib.pyplot as plt

# Load the dataset
data = pd.read_csv('wine_quality_dataset.csv')

# Split features and target variable
X = data.drop('quality', axis=1)
y = data['quality']

# Split the data into training and testing sets
X_train, X_test, y_train, y_test = train_test_split(X, y, test_size=0.2, random_state=42)

# Initialize Random Forest model
rf_model = RandomForestClassifier(n_estimators=100, random_state=42)

# Train the model
rf_model.fit(X_train, y_train)

# Feature Importance
feature_importances = rf_model.feature_importances_

# Create a DataFrame to store feature importance
feature_importance_df = pd.DataFrame({'Feature': X.columns, 'Importance': feature_importances})

# Sort the DataFrame by feature importance
feature_importance_df = feature_importance_df.sort_values(by='Importance', ascending=False)

# Visualize feature importances
plt.figure(figsize=(10, 6))
plt.bar(feature_importance_df['Feature'], feature_importance_df['Importance'])
plt.xticks(rotation=90)
plt.xlabel('Features')
plt.ylabel('Importance Score')
plt.title('Feature Importance')
plt.show()

# Print feature importance ranking
print("Feature Importance Ranking:")
print(feature_importance_df)

# Evaluate the model
accuracy = rf_model.score(X_test, y_test)
print("Model Accuracy:", accuracy)


# Make sure to replace 'wine_quality_dataset.csv' with the actual filename of your dataset. You can further enhance this code by adding more detailed analysis, hyperparameter tuning, or trying other ensemble models.
